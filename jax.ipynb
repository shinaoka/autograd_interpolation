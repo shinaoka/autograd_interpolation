{
 "cells": [
  {
   "cell_type": "code",
   "execution_count": null,
   "metadata": {},
   "outputs": [],
   "source": [
    "import matplotlib\n",
    "%matplotlib inline\n",
    "import os\n",
    "os.environ['JAX_ENABLE_X64']='True'\n",
    "\n",
    "import jax.numpy as jnp\n",
    "from jax import grad\n",
    "from scipy.optimize import minimize\n",
    "from scipy.interpolate import InterpolatedUnivariateSpline"
   ]
  },
  {
   "cell_type": "code",
   "execution_count": null,
   "metadata": {},
   "outputs": [],
   "source": [
    "def f(x):\n",
    "    return sum((x-1)**2)\n",
    "\n",
    "fprime = grad(f)\n",
    "\n",
    "res = minimize(f, 0.0, method=\"BFGS\", jac=lambda x: float(fprime(x)))\n",
    "print(res.x)"
   ]
  },
  {
   "cell_type": "code",
   "execution_count": null,
   "metadata": {},
   "outputs": [],
   "source": [
    "xs = jnp.linspace(-10, 10, 100)\n",
    "intpl_f = InterpolatedUnivariateSpline(xs, (xs-1)**2)\n",
    "fprime_intpl = grad(intpl_f)\n",
    "res = minimize(intpl_f, 0.0, method=\"BFGS\", jac=lambda x: float(fprime(x)))\n",
    "print(res.x)"
   ]
  }
 ],
 "metadata": {
  "kernelspec": {
   "display_name": "Python 3.8.10 64-bit",
   "language": "python",
   "name": "python3"
  },
  "language_info": {
   "codemirror_mode": {
    "name": "ipython",
    "version": 3
   },
   "file_extension": ".py",
   "mimetype": "text/x-python",
   "name": "python",
   "nbconvert_exporter": "python",
   "pygments_lexer": "ipython3",
   "version": "3.8.10"
  },
  "orig_nbformat": 4,
  "vscode": {
   "interpreter": {
    "hash": "31f2aee4e71d21fbe5cf8b01ff0e069b9275f58929596ceb00d14d90e3e16cd6"
   }
  }
 },
 "nbformat": 4,
 "nbformat_minor": 2
}
